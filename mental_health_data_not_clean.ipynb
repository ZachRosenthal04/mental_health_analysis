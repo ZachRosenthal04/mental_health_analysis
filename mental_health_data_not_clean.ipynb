{
 "cells": [
  {
   "cell_type": "code",
   "execution_count": 1,
   "metadata": {},
   "outputs": [],
   "source": [
    "import pandas as pd\n",
    "import numpy as np\n",
    "import datetime as dt\n"
   ]
  },
  {
   "cell_type": "code",
   "execution_count": 2,
   "metadata": {},
   "outputs": [
    {
     "data": {
      "text/html": [
       "<div>\n",
       "<style scoped>\n",
       "    .dataframe tbody tr th:only-of-type {\n",
       "        vertical-align: middle;\n",
       "    }\n",
       "\n",
       "    .dataframe tbody tr th {\n",
       "        vertical-align: top;\n",
       "    }\n",
       "\n",
       "    .dataframe thead th {\n",
       "        text-align: right;\n",
       "    }\n",
       "</style>\n",
       "<table border=\"1\" class=\"dataframe\">\n",
       "  <thead>\n",
       "    <tr style=\"text-align: right;\">\n",
       "      <th></th>\n",
       "      <th>Timestamp</th>\n",
       "      <th>Gender</th>\n",
       "      <th>Country</th>\n",
       "      <th>Occupation</th>\n",
       "      <th>self_employed</th>\n",
       "      <th>family_history</th>\n",
       "      <th>treatment</th>\n",
       "      <th>Days_Indoors</th>\n",
       "      <th>Growing_Stress</th>\n",
       "      <th>Changes_Habits</th>\n",
       "      <th>Mental_Health_History</th>\n",
       "      <th>Mood_Swings</th>\n",
       "      <th>Coping_Struggles</th>\n",
       "      <th>Work_Interest</th>\n",
       "      <th>Social_Weakness</th>\n",
       "      <th>mental_health_interview</th>\n",
       "      <th>care_options</th>\n",
       "    </tr>\n",
       "  </thead>\n",
       "  <tbody>\n",
       "    <tr>\n",
       "      <th>0</th>\n",
       "      <td>8/27/2014 11:29</td>\n",
       "      <td>Female</td>\n",
       "      <td>United States</td>\n",
       "      <td>Corporate</td>\n",
       "      <td>NaN</td>\n",
       "      <td>No</td>\n",
       "      <td>Yes</td>\n",
       "      <td>1-14 days</td>\n",
       "      <td>Yes</td>\n",
       "      <td>No</td>\n",
       "      <td>Yes</td>\n",
       "      <td>Medium</td>\n",
       "      <td>No</td>\n",
       "      <td>No</td>\n",
       "      <td>Yes</td>\n",
       "      <td>No</td>\n",
       "      <td>Not sure</td>\n",
       "    </tr>\n",
       "    <tr>\n",
       "      <th>1</th>\n",
       "      <td>8/27/2014 11:31</td>\n",
       "      <td>Female</td>\n",
       "      <td>United States</td>\n",
       "      <td>Corporate</td>\n",
       "      <td>NaN</td>\n",
       "      <td>Yes</td>\n",
       "      <td>Yes</td>\n",
       "      <td>1-14 days</td>\n",
       "      <td>Yes</td>\n",
       "      <td>No</td>\n",
       "      <td>Yes</td>\n",
       "      <td>Medium</td>\n",
       "      <td>No</td>\n",
       "      <td>No</td>\n",
       "      <td>Yes</td>\n",
       "      <td>No</td>\n",
       "      <td>No</td>\n",
       "    </tr>\n",
       "    <tr>\n",
       "      <th>2</th>\n",
       "      <td>8/27/2014 11:32</td>\n",
       "      <td>Female</td>\n",
       "      <td>United States</td>\n",
       "      <td>Corporate</td>\n",
       "      <td>NaN</td>\n",
       "      <td>Yes</td>\n",
       "      <td>Yes</td>\n",
       "      <td>1-14 days</td>\n",
       "      <td>Yes</td>\n",
       "      <td>No</td>\n",
       "      <td>Yes</td>\n",
       "      <td>Medium</td>\n",
       "      <td>No</td>\n",
       "      <td>No</td>\n",
       "      <td>Yes</td>\n",
       "      <td>No</td>\n",
       "      <td>Yes</td>\n",
       "    </tr>\n",
       "    <tr>\n",
       "      <th>3</th>\n",
       "      <td>8/27/2014 11:37</td>\n",
       "      <td>Female</td>\n",
       "      <td>United States</td>\n",
       "      <td>Corporate</td>\n",
       "      <td>No</td>\n",
       "      <td>Yes</td>\n",
       "      <td>Yes</td>\n",
       "      <td>1-14 days</td>\n",
       "      <td>Yes</td>\n",
       "      <td>No</td>\n",
       "      <td>Yes</td>\n",
       "      <td>Medium</td>\n",
       "      <td>No</td>\n",
       "      <td>No</td>\n",
       "      <td>Yes</td>\n",
       "      <td>Maybe</td>\n",
       "      <td>Yes</td>\n",
       "    </tr>\n",
       "    <tr>\n",
       "      <th>4</th>\n",
       "      <td>8/27/2014 11:43</td>\n",
       "      <td>Female</td>\n",
       "      <td>United States</td>\n",
       "      <td>Corporate</td>\n",
       "      <td>No</td>\n",
       "      <td>Yes</td>\n",
       "      <td>Yes</td>\n",
       "      <td>1-14 days</td>\n",
       "      <td>Yes</td>\n",
       "      <td>No</td>\n",
       "      <td>Yes</td>\n",
       "      <td>Medium</td>\n",
       "      <td>No</td>\n",
       "      <td>No</td>\n",
       "      <td>Yes</td>\n",
       "      <td>No</td>\n",
       "      <td>Yes</td>\n",
       "    </tr>\n",
       "    <tr>\n",
       "      <th>...</th>\n",
       "      <td>...</td>\n",
       "      <td>...</td>\n",
       "      <td>...</td>\n",
       "      <td>...</td>\n",
       "      <td>...</td>\n",
       "      <td>...</td>\n",
       "      <td>...</td>\n",
       "      <td>...</td>\n",
       "      <td>...</td>\n",
       "      <td>...</td>\n",
       "      <td>...</td>\n",
       "      <td>...</td>\n",
       "      <td>...</td>\n",
       "      <td>...</td>\n",
       "      <td>...</td>\n",
       "      <td>...</td>\n",
       "      <td>...</td>\n",
       "    </tr>\n",
       "    <tr>\n",
       "      <th>292359</th>\n",
       "      <td>7/27/2015 23:25</td>\n",
       "      <td>Male</td>\n",
       "      <td>United States</td>\n",
       "      <td>Business</td>\n",
       "      <td>Yes</td>\n",
       "      <td>Yes</td>\n",
       "      <td>Yes</td>\n",
       "      <td>15-30 days</td>\n",
       "      <td>No</td>\n",
       "      <td>Maybe</td>\n",
       "      <td>No</td>\n",
       "      <td>Low</td>\n",
       "      <td>Yes</td>\n",
       "      <td>No</td>\n",
       "      <td>Maybe</td>\n",
       "      <td>Maybe</td>\n",
       "      <td>Not sure</td>\n",
       "    </tr>\n",
       "    <tr>\n",
       "      <th>292360</th>\n",
       "      <td>8/17/2015 9:38</td>\n",
       "      <td>Male</td>\n",
       "      <td>South Africa</td>\n",
       "      <td>Business</td>\n",
       "      <td>No</td>\n",
       "      <td>Yes</td>\n",
       "      <td>Yes</td>\n",
       "      <td>15-30 days</td>\n",
       "      <td>No</td>\n",
       "      <td>Maybe</td>\n",
       "      <td>No</td>\n",
       "      <td>Low</td>\n",
       "      <td>Yes</td>\n",
       "      <td>No</td>\n",
       "      <td>Maybe</td>\n",
       "      <td>No</td>\n",
       "      <td>Yes</td>\n",
       "    </tr>\n",
       "    <tr>\n",
       "      <th>292361</th>\n",
       "      <td>8/25/2015 19:59</td>\n",
       "      <td>Male</td>\n",
       "      <td>United States</td>\n",
       "      <td>Business</td>\n",
       "      <td>No</td>\n",
       "      <td>Yes</td>\n",
       "      <td>No</td>\n",
       "      <td>15-30 days</td>\n",
       "      <td>No</td>\n",
       "      <td>Maybe</td>\n",
       "      <td>No</td>\n",
       "      <td>Low</td>\n",
       "      <td>Yes</td>\n",
       "      <td>No</td>\n",
       "      <td>Maybe</td>\n",
       "      <td>No</td>\n",
       "      <td>No</td>\n",
       "    </tr>\n",
       "    <tr>\n",
       "      <th>292362</th>\n",
       "      <td>9/26/2015 1:07</td>\n",
       "      <td>Male</td>\n",
       "      <td>United States</td>\n",
       "      <td>Business</td>\n",
       "      <td>No</td>\n",
       "      <td>Yes</td>\n",
       "      <td>Yes</td>\n",
       "      <td>15-30 days</td>\n",
       "      <td>No</td>\n",
       "      <td>Maybe</td>\n",
       "      <td>No</td>\n",
       "      <td>Low</td>\n",
       "      <td>Yes</td>\n",
       "      <td>No</td>\n",
       "      <td>Maybe</td>\n",
       "      <td>No</td>\n",
       "      <td>Yes</td>\n",
       "    </tr>\n",
       "    <tr>\n",
       "      <th>292363</th>\n",
       "      <td>2/1/2016 23:04</td>\n",
       "      <td>Male</td>\n",
       "      <td>United States</td>\n",
       "      <td>Business</td>\n",
       "      <td>No</td>\n",
       "      <td>Yes</td>\n",
       "      <td>Yes</td>\n",
       "      <td>15-30 days</td>\n",
       "      <td>No</td>\n",
       "      <td>Maybe</td>\n",
       "      <td>No</td>\n",
       "      <td>Low</td>\n",
       "      <td>Yes</td>\n",
       "      <td>No</td>\n",
       "      <td>Maybe</td>\n",
       "      <td>No</td>\n",
       "      <td>Yes</td>\n",
       "    </tr>\n",
       "  </tbody>\n",
       "</table>\n",
       "<p>292364 rows × 17 columns</p>\n",
       "</div>"
      ],
      "text/plain": [
       "              Timestamp  Gender        Country Occupation self_employed  \\\n",
       "0       8/27/2014 11:29  Female  United States  Corporate           NaN   \n",
       "1       8/27/2014 11:31  Female  United States  Corporate           NaN   \n",
       "2       8/27/2014 11:32  Female  United States  Corporate           NaN   \n",
       "3       8/27/2014 11:37  Female  United States  Corporate            No   \n",
       "4       8/27/2014 11:43  Female  United States  Corporate            No   \n",
       "...                 ...     ...            ...        ...           ...   \n",
       "292359  7/27/2015 23:25    Male  United States   Business           Yes   \n",
       "292360   8/17/2015 9:38    Male   South Africa   Business            No   \n",
       "292361  8/25/2015 19:59    Male  United States   Business            No   \n",
       "292362   9/26/2015 1:07    Male  United States   Business            No   \n",
       "292363   2/1/2016 23:04    Male  United States   Business            No   \n",
       "\n",
       "       family_history treatment Days_Indoors Growing_Stress Changes_Habits  \\\n",
       "0                  No       Yes    1-14 days            Yes             No   \n",
       "1                 Yes       Yes    1-14 days            Yes             No   \n",
       "2                 Yes       Yes    1-14 days            Yes             No   \n",
       "3                 Yes       Yes    1-14 days            Yes             No   \n",
       "4                 Yes       Yes    1-14 days            Yes             No   \n",
       "...               ...       ...          ...            ...            ...   \n",
       "292359            Yes       Yes   15-30 days             No          Maybe   \n",
       "292360            Yes       Yes   15-30 days             No          Maybe   \n",
       "292361            Yes        No   15-30 days             No          Maybe   \n",
       "292362            Yes       Yes   15-30 days             No          Maybe   \n",
       "292363            Yes       Yes   15-30 days             No          Maybe   \n",
       "\n",
       "       Mental_Health_History Mood_Swings Coping_Struggles Work_Interest  \\\n",
       "0                        Yes      Medium               No            No   \n",
       "1                        Yes      Medium               No            No   \n",
       "2                        Yes      Medium               No            No   \n",
       "3                        Yes      Medium               No            No   \n",
       "4                        Yes      Medium               No            No   \n",
       "...                      ...         ...              ...           ...   \n",
       "292359                    No         Low              Yes            No   \n",
       "292360                    No         Low              Yes            No   \n",
       "292361                    No         Low              Yes            No   \n",
       "292362                    No         Low              Yes            No   \n",
       "292363                    No         Low              Yes            No   \n",
       "\n",
       "       Social_Weakness mental_health_interview care_options  \n",
       "0                  Yes                      No     Not sure  \n",
       "1                  Yes                      No           No  \n",
       "2                  Yes                      No          Yes  \n",
       "3                  Yes                   Maybe          Yes  \n",
       "4                  Yes                      No          Yes  \n",
       "...                ...                     ...          ...  \n",
       "292359           Maybe                   Maybe     Not sure  \n",
       "292360           Maybe                      No          Yes  \n",
       "292361           Maybe                      No           No  \n",
       "292362           Maybe                      No          Yes  \n",
       "292363           Maybe                      No          Yes  \n",
       "\n",
       "[292364 rows x 17 columns]"
      ]
     },
     "execution_count": 2,
     "metadata": {},
     "output_type": "execute_result"
    }
   ],
   "source": [
    "mh_df = pd.read_csv('Mental Health Dataset.csv')\n",
    "mh_df"
   ]
  },
  {
   "cell_type": "code",
   "execution_count": 3,
   "metadata": {},
   "outputs": [
    {
     "data": {
      "text/html": [
       "<div>\n",
       "<style scoped>\n",
       "    .dataframe tbody tr th:only-of-type {\n",
       "        vertical-align: middle;\n",
       "    }\n",
       "\n",
       "    .dataframe tbody tr th {\n",
       "        vertical-align: top;\n",
       "    }\n",
       "\n",
       "    .dataframe thead th {\n",
       "        text-align: right;\n",
       "    }\n",
       "</style>\n",
       "<table border=\"1\" class=\"dataframe\">\n",
       "  <thead>\n",
       "    <tr style=\"text-align: right;\">\n",
       "      <th></th>\n",
       "      <th>Timestamp</th>\n",
       "      <th>Gender</th>\n",
       "      <th>Country</th>\n",
       "      <th>Occupation</th>\n",
       "      <th>self_employed</th>\n",
       "      <th>family_history</th>\n",
       "      <th>treatment</th>\n",
       "      <th>Days_Indoors</th>\n",
       "      <th>Growing_Stress</th>\n",
       "      <th>Changes_Habits</th>\n",
       "      <th>Mental_Health_History</th>\n",
       "      <th>Mood_Swings</th>\n",
       "      <th>Coping_Struggles</th>\n",
       "      <th>Work_Interest</th>\n",
       "      <th>Social_Weakness</th>\n",
       "      <th>mental_health_interview</th>\n",
       "      <th>care_options</th>\n",
       "    </tr>\n",
       "  </thead>\n",
       "  <tbody>\n",
       "    <tr>\n",
       "      <th>count</th>\n",
       "      <td>292364</td>\n",
       "      <td>292364</td>\n",
       "      <td>292364</td>\n",
       "      <td>292364</td>\n",
       "      <td>287162</td>\n",
       "      <td>292364</td>\n",
       "      <td>292364</td>\n",
       "      <td>292364</td>\n",
       "      <td>292364</td>\n",
       "      <td>292364</td>\n",
       "      <td>292364</td>\n",
       "      <td>292364</td>\n",
       "      <td>292364</td>\n",
       "      <td>292364</td>\n",
       "      <td>292364</td>\n",
       "      <td>292364</td>\n",
       "      <td>292364</td>\n",
       "    </tr>\n",
       "    <tr>\n",
       "      <th>unique</th>\n",
       "      <td>580</td>\n",
       "      <td>2</td>\n",
       "      <td>35</td>\n",
       "      <td>5</td>\n",
       "      <td>2</td>\n",
       "      <td>2</td>\n",
       "      <td>2</td>\n",
       "      <td>5</td>\n",
       "      <td>3</td>\n",
       "      <td>3</td>\n",
       "      <td>3</td>\n",
       "      <td>3</td>\n",
       "      <td>2</td>\n",
       "      <td>3</td>\n",
       "      <td>3</td>\n",
       "      <td>3</td>\n",
       "      <td>3</td>\n",
       "    </tr>\n",
       "    <tr>\n",
       "      <th>top</th>\n",
       "      <td>8/27/2014 11:43</td>\n",
       "      <td>Male</td>\n",
       "      <td>United States</td>\n",
       "      <td>Housewife</td>\n",
       "      <td>No</td>\n",
       "      <td>No</td>\n",
       "      <td>Yes</td>\n",
       "      <td>1-14 days</td>\n",
       "      <td>Maybe</td>\n",
       "      <td>Yes</td>\n",
       "      <td>No</td>\n",
       "      <td>Medium</td>\n",
       "      <td>No</td>\n",
       "      <td>No</td>\n",
       "      <td>Maybe</td>\n",
       "      <td>No</td>\n",
       "      <td>No</td>\n",
       "    </tr>\n",
       "    <tr>\n",
       "      <th>freq</th>\n",
       "      <td>2384</td>\n",
       "      <td>239850</td>\n",
       "      <td>171308</td>\n",
       "      <td>66351</td>\n",
       "      <td>257994</td>\n",
       "      <td>176832</td>\n",
       "      <td>147606</td>\n",
       "      <td>63548</td>\n",
       "      <td>99985</td>\n",
       "      <td>109523</td>\n",
       "      <td>104018</td>\n",
       "      <td>101064</td>\n",
       "      <td>154328</td>\n",
       "      <td>105843</td>\n",
       "      <td>103393</td>\n",
       "      <td>232166</td>\n",
       "      <td>118886</td>\n",
       "    </tr>\n",
       "  </tbody>\n",
       "</table>\n",
       "</div>"
      ],
      "text/plain": [
       "              Timestamp  Gender        Country Occupation self_employed  \\\n",
       "count            292364  292364         292364     292364        287162   \n",
       "unique              580       2             35          5             2   \n",
       "top     8/27/2014 11:43    Male  United States  Housewife            No   \n",
       "freq               2384  239850         171308      66351        257994   \n",
       "\n",
       "       family_history treatment Days_Indoors Growing_Stress Changes_Habits  \\\n",
       "count          292364    292364       292364         292364         292364   \n",
       "unique              2         2            5              3              3   \n",
       "top                No       Yes    1-14 days          Maybe            Yes   \n",
       "freq           176832    147606        63548          99985         109523   \n",
       "\n",
       "       Mental_Health_History Mood_Swings Coping_Struggles Work_Interest  \\\n",
       "count                 292364      292364           292364        292364   \n",
       "unique                     3           3                2             3   \n",
       "top                       No      Medium               No            No   \n",
       "freq                  104018      101064           154328        105843   \n",
       "\n",
       "       Social_Weakness mental_health_interview care_options  \n",
       "count           292364                  292364       292364  \n",
       "unique               3                       3            3  \n",
       "top              Maybe                      No           No  \n",
       "freq            103393                  232166       118886  "
      ]
     },
     "execution_count": 3,
     "metadata": {},
     "output_type": "execute_result"
    }
   ],
   "source": [
    "mh_df.describe()"
   ]
  },
  {
   "cell_type": "code",
   "execution_count": 4,
   "metadata": {},
   "outputs": [
    {
     "name": "stdout",
     "output_type": "stream",
     "text": [
      "<class 'pandas.core.frame.DataFrame'>\n",
      "RangeIndex: 292364 entries, 0 to 292363\n",
      "Data columns (total 17 columns):\n",
      " #   Column                   Non-Null Count   Dtype \n",
      "---  ------                   --------------   ----- \n",
      " 0   Timestamp                292364 non-null  object\n",
      " 1   Gender                   292364 non-null  object\n",
      " 2   Country                  292364 non-null  object\n",
      " 3   Occupation               292364 non-null  object\n",
      " 4   self_employed            287162 non-null  object\n",
      " 5   family_history           292364 non-null  object\n",
      " 6   treatment                292364 non-null  object\n",
      " 7   Days_Indoors             292364 non-null  object\n",
      " 8   Growing_Stress           292364 non-null  object\n",
      " 9   Changes_Habits           292364 non-null  object\n",
      " 10  Mental_Health_History    292364 non-null  object\n",
      " 11  Mood_Swings              292364 non-null  object\n",
      " 12  Coping_Struggles         292364 non-null  object\n",
      " 13  Work_Interest            292364 non-null  object\n",
      " 14  Social_Weakness          292364 non-null  object\n",
      " 15  mental_health_interview  292364 non-null  object\n",
      " 16  care_options             292364 non-null  object\n",
      "dtypes: object(17)\n",
      "memory usage: 37.9+ MB\n"
     ]
    }
   ],
   "source": [
    "mh_df.info()"
   ]
  },
  {
   "cell_type": "markdown",
   "metadata": {},
   "source": [
    "# EDA by Column:"
   ]
  },
  {
   "cell_type": "markdown",
   "metadata": {},
   "source": [
    "## Timestamp Column:\n"
   ]
  },
  {
   "cell_type": "code",
   "execution_count": 5,
   "metadata": {},
   "outputs": [],
   "source": [
    "# Split the 'Timestamp' column into date and time components\n",
    "mh_df['Date'] = pd.to_datetime(mh_df['Timestamp']).dt.date\n",
    "mh_df['Time'] = pd.to_datetime(mh_df['Timestamp']).dt.time\n",
    "\n",
    "mh_df.drop(columns=['Timestamp'], inplace=True)\n"
   ]
  },
  {
   "cell_type": "code",
   "execution_count": 6,
   "metadata": {},
   "outputs": [
    {
     "data": {
      "text/html": [
       "<div>\n",
       "<style scoped>\n",
       "    .dataframe tbody tr th:only-of-type {\n",
       "        vertical-align: middle;\n",
       "    }\n",
       "\n",
       "    .dataframe tbody tr th {\n",
       "        vertical-align: top;\n",
       "    }\n",
       "\n",
       "    .dataframe thead th {\n",
       "        text-align: right;\n",
       "    }\n",
       "</style>\n",
       "<table border=\"1\" class=\"dataframe\">\n",
       "  <thead>\n",
       "    <tr style=\"text-align: right;\">\n",
       "      <th></th>\n",
       "      <th>Gender</th>\n",
       "      <th>Country</th>\n",
       "      <th>Occupation</th>\n",
       "      <th>self_employed</th>\n",
       "      <th>family_history</th>\n",
       "      <th>treatment</th>\n",
       "      <th>Days_Indoors</th>\n",
       "      <th>Growing_Stress</th>\n",
       "      <th>Changes_Habits</th>\n",
       "      <th>Mental_Health_History</th>\n",
       "      <th>Mood_Swings</th>\n",
       "      <th>Coping_Struggles</th>\n",
       "      <th>Work_Interest</th>\n",
       "      <th>Social_Weakness</th>\n",
       "      <th>mental_health_interview</th>\n",
       "      <th>care_options</th>\n",
       "      <th>Date</th>\n",
       "      <th>Time</th>\n",
       "    </tr>\n",
       "  </thead>\n",
       "  <tbody>\n",
       "    <tr>\n",
       "      <th>0</th>\n",
       "      <td>Female</td>\n",
       "      <td>United States</td>\n",
       "      <td>Corporate</td>\n",
       "      <td>NaN</td>\n",
       "      <td>No</td>\n",
       "      <td>Yes</td>\n",
       "      <td>1-14 days</td>\n",
       "      <td>Yes</td>\n",
       "      <td>No</td>\n",
       "      <td>Yes</td>\n",
       "      <td>Medium</td>\n",
       "      <td>No</td>\n",
       "      <td>No</td>\n",
       "      <td>Yes</td>\n",
       "      <td>No</td>\n",
       "      <td>Not sure</td>\n",
       "      <td>2014-08-27</td>\n",
       "      <td>11:29:00</td>\n",
       "    </tr>\n",
       "    <tr>\n",
       "      <th>1</th>\n",
       "      <td>Female</td>\n",
       "      <td>United States</td>\n",
       "      <td>Corporate</td>\n",
       "      <td>NaN</td>\n",
       "      <td>Yes</td>\n",
       "      <td>Yes</td>\n",
       "      <td>1-14 days</td>\n",
       "      <td>Yes</td>\n",
       "      <td>No</td>\n",
       "      <td>Yes</td>\n",
       "      <td>Medium</td>\n",
       "      <td>No</td>\n",
       "      <td>No</td>\n",
       "      <td>Yes</td>\n",
       "      <td>No</td>\n",
       "      <td>No</td>\n",
       "      <td>2014-08-27</td>\n",
       "      <td>11:31:00</td>\n",
       "    </tr>\n",
       "    <tr>\n",
       "      <th>2</th>\n",
       "      <td>Female</td>\n",
       "      <td>United States</td>\n",
       "      <td>Corporate</td>\n",
       "      <td>NaN</td>\n",
       "      <td>Yes</td>\n",
       "      <td>Yes</td>\n",
       "      <td>1-14 days</td>\n",
       "      <td>Yes</td>\n",
       "      <td>No</td>\n",
       "      <td>Yes</td>\n",
       "      <td>Medium</td>\n",
       "      <td>No</td>\n",
       "      <td>No</td>\n",
       "      <td>Yes</td>\n",
       "      <td>No</td>\n",
       "      <td>Yes</td>\n",
       "      <td>2014-08-27</td>\n",
       "      <td>11:32:00</td>\n",
       "    </tr>\n",
       "    <tr>\n",
       "      <th>3</th>\n",
       "      <td>Female</td>\n",
       "      <td>United States</td>\n",
       "      <td>Corporate</td>\n",
       "      <td>No</td>\n",
       "      <td>Yes</td>\n",
       "      <td>Yes</td>\n",
       "      <td>1-14 days</td>\n",
       "      <td>Yes</td>\n",
       "      <td>No</td>\n",
       "      <td>Yes</td>\n",
       "      <td>Medium</td>\n",
       "      <td>No</td>\n",
       "      <td>No</td>\n",
       "      <td>Yes</td>\n",
       "      <td>Maybe</td>\n",
       "      <td>Yes</td>\n",
       "      <td>2014-08-27</td>\n",
       "      <td>11:37:00</td>\n",
       "    </tr>\n",
       "    <tr>\n",
       "      <th>4</th>\n",
       "      <td>Female</td>\n",
       "      <td>United States</td>\n",
       "      <td>Corporate</td>\n",
       "      <td>No</td>\n",
       "      <td>Yes</td>\n",
       "      <td>Yes</td>\n",
       "      <td>1-14 days</td>\n",
       "      <td>Yes</td>\n",
       "      <td>No</td>\n",
       "      <td>Yes</td>\n",
       "      <td>Medium</td>\n",
       "      <td>No</td>\n",
       "      <td>No</td>\n",
       "      <td>Yes</td>\n",
       "      <td>No</td>\n",
       "      <td>Yes</td>\n",
       "      <td>2014-08-27</td>\n",
       "      <td>11:43:00</td>\n",
       "    </tr>\n",
       "  </tbody>\n",
       "</table>\n",
       "</div>"
      ],
      "text/plain": [
       "   Gender        Country Occupation self_employed family_history treatment  \\\n",
       "0  Female  United States  Corporate           NaN             No       Yes   \n",
       "1  Female  United States  Corporate           NaN            Yes       Yes   \n",
       "2  Female  United States  Corporate           NaN            Yes       Yes   \n",
       "3  Female  United States  Corporate            No            Yes       Yes   \n",
       "4  Female  United States  Corporate            No            Yes       Yes   \n",
       "\n",
       "  Days_Indoors Growing_Stress Changes_Habits Mental_Health_History  \\\n",
       "0    1-14 days            Yes             No                   Yes   \n",
       "1    1-14 days            Yes             No                   Yes   \n",
       "2    1-14 days            Yes             No                   Yes   \n",
       "3    1-14 days            Yes             No                   Yes   \n",
       "4    1-14 days            Yes             No                   Yes   \n",
       "\n",
       "  Mood_Swings Coping_Struggles Work_Interest Social_Weakness  \\\n",
       "0      Medium               No            No             Yes   \n",
       "1      Medium               No            No             Yes   \n",
       "2      Medium               No            No             Yes   \n",
       "3      Medium               No            No             Yes   \n",
       "4      Medium               No            No             Yes   \n",
       "\n",
       "  mental_health_interview care_options        Date      Time  \n",
       "0                      No     Not sure  2014-08-27  11:29:00  \n",
       "1                      No           No  2014-08-27  11:31:00  \n",
       "2                      No          Yes  2014-08-27  11:32:00  \n",
       "3                   Maybe          Yes  2014-08-27  11:37:00  \n",
       "4                      No          Yes  2014-08-27  11:43:00  "
      ]
     },
     "execution_count": 6,
     "metadata": {},
     "output_type": "execute_result"
    }
   ],
   "source": [
    "mh_df.head()"
   ]
  },
  {
   "cell_type": "markdown",
   "metadata": {},
   "source": [
    "## Gender column:"
   ]
  },
  {
   "cell_type": "code",
   "execution_count": 7,
   "metadata": {},
   "outputs": [
    {
     "data": {
      "text/plain": [
       "Gender\n",
       "Male      239850\n",
       "Female     52514\n",
       "Name: count, dtype: int64"
      ]
     },
     "execution_count": 7,
     "metadata": {},
     "output_type": "execute_result"
    }
   ],
   "source": [
    "mh_df['Gender'].value_counts()\n",
    "# 239850 Male\n",
    "# 52514 Female\n",
    "# Almost 5:1 ratio of male to female respondants "
   ]
  },
  {
   "cell_type": "code",
   "execution_count": 8,
   "metadata": {},
   "outputs": [
    {
     "name": "stdout",
     "output_type": "stream",
     "text": [
      "<class 'pandas.core.series.Series'>\n",
      "RangeIndex: 292364 entries, 0 to 292363\n",
      "Series name: Gender\n",
      "Non-Null Count   Dtype \n",
      "--------------   ----- \n",
      "292364 non-null  object\n",
      "dtypes: object(1)\n",
      "memory usage: 2.2+ MB\n"
     ]
    }
   ],
   "source": [
    "mh_df['Gender'].info() # No Nulls in the 'Gender' column"
   ]
  },
  {
   "cell_type": "markdown",
   "metadata": {},
   "source": [
    "## Country column: "
   ]
  },
  {
   "cell_type": "code",
   "execution_count": 9,
   "metadata": {},
   "outputs": [
    {
     "name": "stdout",
     "output_type": "stream",
     "text": [
      "['United States' 'Poland' 'Australia' 'Canada' 'United Kingdom'\n",
      " 'South Africa' 'Sweden' 'New Zealand' 'Netherlands' 'India' 'Belgium'\n",
      " 'Ireland' 'France' 'Portugal' 'Brazil' 'Costa Rica' 'Russia' 'Germany'\n",
      " 'Switzerland' 'Finland' 'Israel' 'Italy' 'Bosnia and Herzegovina'\n",
      " 'Singapore' 'Nigeria' 'Croatia' 'Thailand' 'Denmark' 'Mexico' 'Greece'\n",
      " 'Moldova' 'Colombia' 'Georgia' 'Czech Republic' 'Philippines']\n"
     ]
    }
   ],
   "source": [
    "print(mh_df['Country'].unique())"
   ]
  },
  {
   "cell_type": "code",
   "execution_count": 10,
   "metadata": {},
   "outputs": [
    {
     "data": {
      "text/plain": [
       "35"
      ]
     },
     "execution_count": 10,
     "metadata": {},
     "output_type": "execute_result"
    }
   ],
   "source": [
    "len(mh_df['Country'].unique()) # 35 countries in the survey"
   ]
  },
  {
   "cell_type": "code",
   "execution_count": 13,
   "metadata": {},
   "outputs": [
    {
     "data": {
      "text/plain": [
       "Country\n",
       "United States             171308\n",
       "United Kingdom             51404\n",
       "Canada                     18726\n",
       "Australia                   6026\n",
       "Netherlands                 5894\n",
       "Ireland                     5548\n",
       "Germany                     4680\n",
       "Sweden                      2818\n",
       "India                       2774\n",
       "France                      2340\n",
       "Brazil                      2340\n",
       "New Zealand                 1994\n",
       "South Africa                1994\n",
       "Switzerland                 1560\n",
       "Israel                      1560\n",
       "Italy                       1560\n",
       "Belgium                      824\n",
       "Poland                       824\n",
       "Russia                       780\n",
       "Denmark                      780\n",
       "Singapore                    780\n",
       "Greece                       780\n",
       "Czech Republic               390\n",
       "Georgia                      390\n",
       "Colombia                     390\n",
       "Moldova                      390\n",
       "Mexico                       390\n",
       "Croatia                      390\n",
       "Thailand                     390\n",
       "Nigeria                      390\n",
       "Bosnia and Herzegovina       390\n",
       "Portugal                     390\n",
       "Finland                      390\n",
       "Costa Rica                   390\n",
       "Philippines                  390\n",
       "Name: count, dtype: int64"
      ]
     },
     "execution_count": 13,
     "metadata": {},
     "output_type": "execute_result"
    }
   ],
   "source": [
    "mh_df['Country'].value_counts()\n"
   ]
  },
  {
   "cell_type": "markdown",
   "metadata": {},
   "source": [
    "## Occupation column:"
   ]
  },
  {
   "cell_type": "code",
   "execution_count": 15,
   "metadata": {},
   "outputs": [
    {
     "data": {
      "text/plain": [
       "count        292364\n",
       "unique            5\n",
       "top       Housewife\n",
       "freq          66351\n",
       "Name: Occupation, dtype: object"
      ]
     },
     "execution_count": 15,
     "metadata": {},
     "output_type": "execute_result"
    }
   ],
   "source": [
    "mh_df['Occupation'].describe()"
   ]
  },
  {
   "cell_type": "code",
   "execution_count": 16,
   "metadata": {},
   "outputs": [
    {
     "data": {
      "text/plain": [
       "Occupation\n",
       "Housewife    66351\n",
       "Student      61794\n",
       "Corporate    61229\n",
       "Others       52841\n",
       "Business     50149\n",
       "Name: count, dtype: int64"
      ]
     },
     "execution_count": 16,
     "metadata": {},
     "output_type": "execute_result"
    }
   ],
   "source": [
    "mh_df['Occupation'].value_counts()\n",
    "# The highest freq response is 'Housewife' with 66351 entries but \n",
    "# it's states that only 52K responses are from women. Something doesn't add up. "
   ]
  },
  {
   "cell_type": "code",
   "execution_count": null,
   "metadata": {},
   "outputs": [],
   "source": [
    "housewife_responses_df = mh_df.loc[mh_df['Occupation'] == 'Housewife']\n",
    "housewife_responses_df"
   ]
  },
  {
   "cell_type": "markdown",
   "metadata": {},
   "source": [
    "#### Come back to this 'Housewife' situation later because its not making sense based on the gender column"
   ]
  },
  {
   "cell_type": "markdown",
   "metadata": {},
   "source": [
    "## SELF_EMPLOYED Column:\n"
   ]
  },
  {
   "cell_type": "code",
   "execution_count": 22,
   "metadata": {},
   "outputs": [
    {
     "data": {
      "text/plain": [
       "self_employed\n",
       "No     257994\n",
       "Yes     29168\n",
       "Name: count, dtype: int64"
      ]
     },
     "execution_count": 22,
     "metadata": {},
     "output_type": "execute_result"
    }
   ],
   "source": [
    "mh_df['self_employed'].value_counts()"
   ]
  },
  {
   "cell_type": "code",
   "execution_count": 23,
   "metadata": {},
   "outputs": [
    {
     "data": {
      "text/plain": [
       "5202"
      ]
     },
     "execution_count": 23,
     "metadata": {},
     "output_type": "execute_result"
    }
   ],
   "source": [
    "mh_df['self_employed'].isna().sum()"
   ]
  },
  {
   "cell_type": "code",
   "execution_count": 25,
   "metadata": {},
   "outputs": [
    {
     "data": {
      "text/plain": [
       "Occupation\n",
       "Housewife    1178\n",
       "Student      1107\n",
       "Corporate    1072\n",
       "Others        948\n",
       "Business      897\n",
       "Name: count, dtype: int64"
      ]
     },
     "execution_count": 25,
     "metadata": {},
     "output_type": "execute_result"
    }
   ],
   "source": [
    "self_employed_missing_data = mh_df.loc[mh_df['self_employed'].isna()]\n",
    "\n",
    "self_employed_missing_data['Occupation'].value_counts()"
   ]
  },
  {
   "cell_type": "code",
   "execution_count": 26,
   "metadata": {},
   "outputs": [],
   "source": [
    "mh_df['self_employed'] = mh_df['self_employed'].fillna('No')"
   ]
  },
  {
   "cell_type": "markdown",
   "metadata": {},
   "source": [
    "## Family_History Column:"
   ]
  },
  {
   "cell_type": "markdown",
   "metadata": {},
   "source": [
    "#### I'm assuming this means that these respondants ar saying yes they have a family history of mental illness and not that yes they have access to their family histories"
   ]
  },
  {
   "cell_type": "code",
   "execution_count": 28,
   "metadata": {},
   "outputs": [
    {
     "data": {
      "text/plain": [
       "0"
      ]
     },
     "execution_count": 28,
     "metadata": {},
     "output_type": "execute_result"
    }
   ],
   "source": [
    "mh_df['family_history'].isna().sum() #No Nulls"
   ]
  },
  {
   "cell_type": "code",
   "execution_count": 29,
   "metadata": {},
   "outputs": [
    {
     "data": {
      "text/plain": [
       "family_history\n",
       "No     176832\n",
       "Yes    115532\n",
       "Name: count, dtype: int64"
      ]
     },
     "execution_count": 29,
     "metadata": {},
     "output_type": "execute_result"
    }
   ],
   "source": [
    "mh_df['family_history'].value_counts()"
   ]
  },
  {
   "cell_type": "markdown",
   "metadata": {},
   "source": [
    "## TREATMENT Column:"
   ]
  },
  {
   "cell_type": "code",
   "execution_count": 30,
   "metadata": {},
   "outputs": [
    {
     "data": {
      "text/plain": [
       "0"
      ]
     },
     "execution_count": 30,
     "metadata": {},
     "output_type": "execute_result"
    }
   ],
   "source": [
    "mh_df['treatment'].isna().sum() # No Nulls"
   ]
  },
  {
   "cell_type": "code",
   "execution_count": 32,
   "metadata": {},
   "outputs": [
    {
     "data": {
      "text/plain": [
       "treatment\n",
       "Yes    147606\n",
       "No     144758\n",
       "Name: count, dtype: int64"
      ]
     },
     "execution_count": 32,
     "metadata": {},
     "output_type": "execute_result"
    }
   ],
   "source": [
    "mh_df['treatment'].value_counts()"
   ]
  },
  {
   "cell_type": "markdown",
   "metadata": {},
   "source": [
    "### There is almost a 50/50 split of yes and no treatment. I think it would be really interesting to do some EDA on each of the yes and no responses. I'll create the data frames now but I will explore them late. "
   ]
  },
  {
   "cell_type": "code",
   "execution_count": 36,
   "metadata": {},
   "outputs": [],
   "source": [
    "yes_treatment_df = mh_df.loc[mh_df['treatment'] == 'Yes']\n",
    "no_treatment_df = mh_df.loc[mh_df['treatment'] == 'No']"
   ]
  },
  {
   "cell_type": "code",
   "execution_count": 39,
   "metadata": {},
   "outputs": [
    {
     "data": {
      "text/html": [
       "<div>\n",
       "<style scoped>\n",
       "    .dataframe tbody tr th:only-of-type {\n",
       "        vertical-align: middle;\n",
       "    }\n",
       "\n",
       "    .dataframe tbody tr th {\n",
       "        vertical-align: top;\n",
       "    }\n",
       "\n",
       "    .dataframe thead th {\n",
       "        text-align: right;\n",
       "    }\n",
       "</style>\n",
       "<table border=\"1\" class=\"dataframe\">\n",
       "  <thead>\n",
       "    <tr style=\"text-align: right;\">\n",
       "      <th></th>\n",
       "      <th>Gender</th>\n",
       "      <th>Country</th>\n",
       "      <th>Occupation</th>\n",
       "      <th>self_employed</th>\n",
       "      <th>family_history</th>\n",
       "      <th>treatment</th>\n",
       "      <th>Days_Indoors</th>\n",
       "      <th>Growing_Stress</th>\n",
       "      <th>Changes_Habits</th>\n",
       "      <th>Mental_Health_History</th>\n",
       "      <th>Mood_Swings</th>\n",
       "      <th>Coping_Struggles</th>\n",
       "      <th>Work_Interest</th>\n",
       "      <th>Social_Weakness</th>\n",
       "      <th>mental_health_interview</th>\n",
       "      <th>care_options</th>\n",
       "      <th>Date</th>\n",
       "      <th>Time</th>\n",
       "    </tr>\n",
       "  </thead>\n",
       "  <tbody>\n",
       "    <tr>\n",
       "      <th>0</th>\n",
       "      <td>Female</td>\n",
       "      <td>United States</td>\n",
       "      <td>Corporate</td>\n",
       "      <td>No</td>\n",
       "      <td>No</td>\n",
       "      <td>Yes</td>\n",
       "      <td>1-14 days</td>\n",
       "      <td>Yes</td>\n",
       "      <td>No</td>\n",
       "      <td>Yes</td>\n",
       "      <td>Medium</td>\n",
       "      <td>No</td>\n",
       "      <td>No</td>\n",
       "      <td>Yes</td>\n",
       "      <td>No</td>\n",
       "      <td>Not sure</td>\n",
       "      <td>2014-08-27</td>\n",
       "      <td>11:29:00</td>\n",
       "    </tr>\n",
       "    <tr>\n",
       "      <th>1</th>\n",
       "      <td>Female</td>\n",
       "      <td>United States</td>\n",
       "      <td>Corporate</td>\n",
       "      <td>No</td>\n",
       "      <td>Yes</td>\n",
       "      <td>Yes</td>\n",
       "      <td>1-14 days</td>\n",
       "      <td>Yes</td>\n",
       "      <td>No</td>\n",
       "      <td>Yes</td>\n",
       "      <td>Medium</td>\n",
       "      <td>No</td>\n",
       "      <td>No</td>\n",
       "      <td>Yes</td>\n",
       "      <td>No</td>\n",
       "      <td>No</td>\n",
       "      <td>2014-08-27</td>\n",
       "      <td>11:31:00</td>\n",
       "    </tr>\n",
       "    <tr>\n",
       "      <th>2</th>\n",
       "      <td>Female</td>\n",
       "      <td>United States</td>\n",
       "      <td>Corporate</td>\n",
       "      <td>No</td>\n",
       "      <td>Yes</td>\n",
       "      <td>Yes</td>\n",
       "      <td>1-14 days</td>\n",
       "      <td>Yes</td>\n",
       "      <td>No</td>\n",
       "      <td>Yes</td>\n",
       "      <td>Medium</td>\n",
       "      <td>No</td>\n",
       "      <td>No</td>\n",
       "      <td>Yes</td>\n",
       "      <td>No</td>\n",
       "      <td>Yes</td>\n",
       "      <td>2014-08-27</td>\n",
       "      <td>11:32:00</td>\n",
       "    </tr>\n",
       "  </tbody>\n",
       "</table>\n",
       "</div>"
      ],
      "text/plain": [
       "   Gender        Country Occupation self_employed family_history treatment  \\\n",
       "0  Female  United States  Corporate            No             No       Yes   \n",
       "1  Female  United States  Corporate            No            Yes       Yes   \n",
       "2  Female  United States  Corporate            No            Yes       Yes   \n",
       "\n",
       "  Days_Indoors Growing_Stress Changes_Habits Mental_Health_History  \\\n",
       "0    1-14 days            Yes             No                   Yes   \n",
       "1    1-14 days            Yes             No                   Yes   \n",
       "2    1-14 days            Yes             No                   Yes   \n",
       "\n",
       "  Mood_Swings Coping_Struggles Work_Interest Social_Weakness  \\\n",
       "0      Medium               No            No             Yes   \n",
       "1      Medium               No            No             Yes   \n",
       "2      Medium               No            No             Yes   \n",
       "\n",
       "  mental_health_interview care_options        Date      Time  \n",
       "0                      No     Not sure  2014-08-27  11:29:00  \n",
       "1                      No           No  2014-08-27  11:31:00  \n",
       "2                      No          Yes  2014-08-27  11:32:00  "
      ]
     },
     "execution_count": 39,
     "metadata": {},
     "output_type": "execute_result"
    }
   ],
   "source": [
    "yes_treatment_df.head(3)"
   ]
  },
  {
   "cell_type": "code",
   "execution_count": 40,
   "metadata": {},
   "outputs": [
    {
     "data": {
      "text/html": [
       "<div>\n",
       "<style scoped>\n",
       "    .dataframe tbody tr th:only-of-type {\n",
       "        vertical-align: middle;\n",
       "    }\n",
       "\n",
       "    .dataframe tbody tr th {\n",
       "        vertical-align: top;\n",
       "    }\n",
       "\n",
       "    .dataframe thead th {\n",
       "        text-align: right;\n",
       "    }\n",
       "</style>\n",
       "<table border=\"1\" class=\"dataframe\">\n",
       "  <thead>\n",
       "    <tr style=\"text-align: right;\">\n",
       "      <th></th>\n",
       "      <th>Gender</th>\n",
       "      <th>Country</th>\n",
       "      <th>Occupation</th>\n",
       "      <th>self_employed</th>\n",
       "      <th>family_history</th>\n",
       "      <th>treatment</th>\n",
       "      <th>Days_Indoors</th>\n",
       "      <th>Growing_Stress</th>\n",
       "      <th>Changes_Habits</th>\n",
       "      <th>Mental_Health_History</th>\n",
       "      <th>Mood_Swings</th>\n",
       "      <th>Coping_Struggles</th>\n",
       "      <th>Work_Interest</th>\n",
       "      <th>Social_Weakness</th>\n",
       "      <th>mental_health_interview</th>\n",
       "      <th>care_options</th>\n",
       "      <th>Date</th>\n",
       "      <th>Time</th>\n",
       "    </tr>\n",
       "  </thead>\n",
       "  <tbody>\n",
       "    <tr>\n",
       "      <th>7</th>\n",
       "      <td>Female</td>\n",
       "      <td>United States</td>\n",
       "      <td>Corporate</td>\n",
       "      <td>No</td>\n",
       "      <td>No</td>\n",
       "      <td>No</td>\n",
       "      <td>1-14 days</td>\n",
       "      <td>Yes</td>\n",
       "      <td>No</td>\n",
       "      <td>Yes</td>\n",
       "      <td>Medium</td>\n",
       "      <td>No</td>\n",
       "      <td>No</td>\n",
       "      <td>Yes</td>\n",
       "      <td>No</td>\n",
       "      <td>No</td>\n",
       "      <td>2014-08-27</td>\n",
       "      <td>11:52:00</td>\n",
       "    </tr>\n",
       "    <tr>\n",
       "      <th>8</th>\n",
       "      <td>Female</td>\n",
       "      <td>United States</td>\n",
       "      <td>Corporate</td>\n",
       "      <td>No</td>\n",
       "      <td>No</td>\n",
       "      <td>No</td>\n",
       "      <td>1-14 days</td>\n",
       "      <td>Yes</td>\n",
       "      <td>No</td>\n",
       "      <td>Yes</td>\n",
       "      <td>Medium</td>\n",
       "      <td>No</td>\n",
       "      <td>No</td>\n",
       "      <td>Yes</td>\n",
       "      <td>No</td>\n",
       "      <td>Not sure</td>\n",
       "      <td>2014-08-27</td>\n",
       "      <td>12:18:00</td>\n",
       "    </tr>\n",
       "    <tr>\n",
       "      <th>9</th>\n",
       "      <td>Female</td>\n",
       "      <td>United States</td>\n",
       "      <td>Corporate</td>\n",
       "      <td>No</td>\n",
       "      <td>No</td>\n",
       "      <td>No</td>\n",
       "      <td>1-14 days</td>\n",
       "      <td>Yes</td>\n",
       "      <td>No</td>\n",
       "      <td>Yes</td>\n",
       "      <td>Medium</td>\n",
       "      <td>No</td>\n",
       "      <td>No</td>\n",
       "      <td>Yes</td>\n",
       "      <td>No</td>\n",
       "      <td>No</td>\n",
       "      <td>2014-08-27</td>\n",
       "      <td>12:37:00</td>\n",
       "    </tr>\n",
       "  </tbody>\n",
       "</table>\n",
       "</div>"
      ],
      "text/plain": [
       "   Gender        Country Occupation self_employed family_history treatment  \\\n",
       "7  Female  United States  Corporate            No             No        No   \n",
       "8  Female  United States  Corporate            No             No        No   \n",
       "9  Female  United States  Corporate            No             No        No   \n",
       "\n",
       "  Days_Indoors Growing_Stress Changes_Habits Mental_Health_History  \\\n",
       "7    1-14 days            Yes             No                   Yes   \n",
       "8    1-14 days            Yes             No                   Yes   \n",
       "9    1-14 days            Yes             No                   Yes   \n",
       "\n",
       "  Mood_Swings Coping_Struggles Work_Interest Social_Weakness  \\\n",
       "7      Medium               No            No             Yes   \n",
       "8      Medium               No            No             Yes   \n",
       "9      Medium               No            No             Yes   \n",
       "\n",
       "  mental_health_interview care_options        Date      Time  \n",
       "7                      No           No  2014-08-27  11:52:00  \n",
       "8                      No     Not sure  2014-08-27  12:18:00  \n",
       "9                      No           No  2014-08-27  12:37:00  "
      ]
     },
     "execution_count": 40,
     "metadata": {},
     "output_type": "execute_result"
    }
   ],
   "source": [
    "no_treatment_df.head(3)"
   ]
  },
  {
   "cell_type": "markdown",
   "metadata": {},
   "source": [
    "## DAYS_INDOORS Column:"
   ]
  },
  {
   "cell_type": "code",
   "execution_count": 41,
   "metadata": {},
   "outputs": [
    {
     "data": {
      "text/plain": [
       "0"
      ]
     },
     "execution_count": 41,
     "metadata": {},
     "output_type": "execute_result"
    }
   ],
   "source": [
    "mh_df['Days_Indoors'].isna().sum()"
   ]
  },
  {
   "cell_type": "code",
   "execution_count": 42,
   "metadata": {},
   "outputs": [
    {
     "data": {
      "text/plain": [
       "Days_Indoors\n",
       "1-14 days             63548\n",
       "31-60 days            60705\n",
       "Go out Every day      58366\n",
       "More than 2 months    55916\n",
       "15-30 days            53829\n",
       "Name: count, dtype: int64"
      ]
     },
     "execution_count": 42,
     "metadata": {},
     "output_type": "execute_result"
    }
   ],
   "source": [
    "mh_df['Days_Indoors'].value_counts()"
   ]
  },
  {
   "cell_type": "markdown",
   "metadata": {},
   "source": [
    "#### This will be a really interesting column to explore in the separated treatment dfs"
   ]
  },
  {
   "cell_type": "markdown",
   "metadata": {},
   "source": [
    "## GROWING_STRESS Column:"
   ]
  },
  {
   "cell_type": "code",
   "execution_count": 43,
   "metadata": {},
   "outputs": [
    {
     "data": {
      "text/plain": [
       "0"
      ]
     },
     "execution_count": 43,
     "metadata": {},
     "output_type": "execute_result"
    }
   ],
   "source": [
    "mh_df['Growing_Stress'].isna().sum() # No Nulls"
   ]
  },
  {
   "cell_type": "code",
   "execution_count": 45,
   "metadata": {},
   "outputs": [
    {
     "data": {
      "text/plain": [
       "Growing_Stress\n",
       "Maybe    99985\n",
       "Yes      99653\n",
       "No       92726\n",
       "Name: count, dtype: int64"
      ]
     },
     "execution_count": 45,
     "metadata": {},
     "output_type": "execute_result"
    }
   ],
   "source": [
    "mh_df['Growing_Stress'].value_counts() # The maybe is really vague. We're going to need to find a way to add some nuance\n",
    "# If no finer detail can be added we'll just have to encode it No=0, Maybe=1, Yes=2 or something like that"
   ]
  },
  {
   "cell_type": "markdown",
   "metadata": {},
   "source": [
    "## CHANGES_HABITS Column:"
   ]
  },
  {
   "cell_type": "code",
   "execution_count": 46,
   "metadata": {},
   "outputs": [
    {
     "data": {
      "text/plain": [
       "0"
      ]
     },
     "execution_count": 46,
     "metadata": {},
     "output_type": "execute_result"
    }
   ],
   "source": [
    "mh_df['Changes_Habits'].isna().sum() # No Nulls"
   ]
  },
  {
   "cell_type": "code",
   "execution_count": 47,
   "metadata": {},
   "outputs": [
    {
     "data": {
      "text/plain": [
       "Changes_Habits\n",
       "Yes      109523\n",
       "Maybe     95166\n",
       "No        87675\n",
       "Name: count, dtype: int64"
      ]
     },
     "execution_count": 47,
     "metadata": {},
     "output_type": "execute_result"
    }
   ],
   "source": [
    "mh_df['Changes_Habits'].value_counts() #Unfotunately another really vague response. No respresentation of which habits or how frequently. \n",
    "# That being said, some granularity could be found out based on Days_Indoors. \n",
    "#Its less likely that someone who has stayed indoors for a long time has changed their habits"
   ]
  },
  {
   "cell_type": "markdown",
   "metadata": {},
   "source": [
    "## Mental_Health_History:"
   ]
  },
  {
   "cell_type": "markdown",
   "metadata": {},
   "source": [
    "#### This column can get us a good glimps into how people feel about treatment of their mental health. If they have a history of mental health issues but haven't gotten treatment maybe we can explore why."
   ]
  },
  {
   "cell_type": "code",
   "execution_count": 48,
   "metadata": {},
   "outputs": [
    {
     "data": {
      "text/plain": [
       "0"
      ]
     },
     "execution_count": 48,
     "metadata": {},
     "output_type": "execute_result"
    }
   ],
   "source": [
    "mh_df['Mental_Health_History'].isna().sum() # No Nulls"
   ]
  },
  {
   "cell_type": "code",
   "execution_count": 49,
   "metadata": {},
   "outputs": [
    {
     "data": {
      "text/plain": [
       "Mental_Health_History\n",
       "No       104018\n",
       "Maybe     95378\n",
       "Yes       92968\n",
       "Name: count, dtype: int64"
      ]
     },
     "execution_count": 49,
     "metadata": {},
     "output_type": "execute_result"
    }
   ],
   "source": [
    "mh_df['Mental_Health_History'].value_counts() # Need to explore the maybe. Could be realted to Country or something like that"
   ]
  },
  {
   "cell_type": "markdown",
   "metadata": {},
   "source": [
    "## MOOD_SWINGS Column:"
   ]
  },
  {
   "cell_type": "code",
   "execution_count": 51,
   "metadata": {},
   "outputs": [
    {
     "data": {
      "text/plain": [
       "0"
      ]
     },
     "execution_count": 51,
     "metadata": {},
     "output_type": "execute_result"
    }
   ],
   "source": [
    "mh_df['Mood_Swings'].isna().sum() # No Nulls"
   ]
  },
  {
   "cell_type": "code",
   "execution_count": 52,
   "metadata": {},
   "outputs": [
    {
     "data": {
      "text/plain": [
       "Mood_Swings\n",
       "Medium    101064\n",
       "Low        99834\n",
       "High       91466\n",
       "Name: count, dtype: int64"
      ]
     },
     "execution_count": 52,
     "metadata": {},
     "output_type": "execute_result"
    }
   ],
   "source": [
    "mh_df['Mood_Swings'].value_counts()"
   ]
  },
  {
   "cell_type": "markdown",
   "metadata": {},
   "source": [
    "## COPING_STRUGGLES:"
   ]
  },
  {
   "cell_type": "code",
   "execution_count": 54,
   "metadata": {},
   "outputs": [
    {
     "data": {
      "text/plain": [
       "0"
      ]
     },
     "execution_count": 54,
     "metadata": {},
     "output_type": "execute_result"
    }
   ],
   "source": [
    "mh_df['Coping_Struggles'].isna().sum()"
   ]
  },
  {
   "cell_type": "code",
   "execution_count": 55,
   "metadata": {},
   "outputs": [
    {
     "data": {
      "text/plain": [
       "Coping_Struggles\n",
       "No     154328\n",
       "Yes    138036\n",
       "Name: count, dtype: int64"
      ]
     },
     "execution_count": 55,
     "metadata": {},
     "output_type": "execute_result"
    }
   ],
   "source": [
    "mh_df['Coping_Struggles'].value_counts() # Really strange given the prevelence of the 'middle' answer that \n",
    "# There isn't one in this column"
   ]
  },
  {
   "cell_type": "markdown",
   "metadata": {},
   "source": [
    "## WORK_INTEREST Column:"
   ]
  },
  {
   "cell_type": "code",
   "execution_count": 56,
   "metadata": {},
   "outputs": [
    {
     "data": {
      "text/plain": [
       "0"
      ]
     },
     "execution_count": 56,
     "metadata": {},
     "output_type": "execute_result"
    }
   ],
   "source": [
    "mh_df['Work_Interest'].isna().sum()"
   ]
  },
  {
   "cell_type": "code",
   "execution_count": 57,
   "metadata": {},
   "outputs": [
    {
     "data": {
      "text/plain": [
       "Work_Interest\n",
       "No       105843\n",
       "Maybe    101185\n",
       "Yes       85336\n",
       "Name: count, dtype: int64"
      ]
     },
     "execution_count": 57,
     "metadata": {},
     "output_type": "execute_result"
    }
   ],
   "source": [
    "mh_df['Work_Interest'].value_counts() # Many maybes"
   ]
  },
  {
   "cell_type": "markdown",
   "metadata": {},
   "source": [
    "## SOCIAL_WEAKNESS Column:"
   ]
  },
  {
   "cell_type": "code",
   "execution_count": 59,
   "metadata": {},
   "outputs": [
    {
     "data": {
      "text/plain": [
       "0"
      ]
     },
     "execution_count": 59,
     "metadata": {},
     "output_type": "execute_result"
    }
   ],
   "source": [
    "mh_df['Social_Weakness'].isna().sum()"
   ]
  },
  {
   "cell_type": "code",
   "execution_count": 60,
   "metadata": {},
   "outputs": [
    {
     "data": {
      "text/plain": [
       "Social_Weakness\n",
       "Maybe    103393\n",
       "No        97364\n",
       "Yes       91607\n",
       "Name: count, dtype: int64"
      ]
     },
     "execution_count": 60,
     "metadata": {},
     "output_type": "execute_result"
    }
   ],
   "source": [
    "mh_df['Social_Weakness'].value_counts() # Lots of Maybes"
   ]
  },
  {
   "cell_type": "markdown",
   "metadata": {},
   "source": [
    "## MENTAL_HEALTH_INTERVIEW Column"
   ]
  },
  {
   "cell_type": "code",
   "execution_count": 62,
   "metadata": {},
   "outputs": [
    {
     "data": {
      "text/plain": [
       "0"
      ]
     },
     "execution_count": 62,
     "metadata": {},
     "output_type": "execute_result"
    }
   ],
   "source": [
    "mh_df['mental_health_interview'].isna().sum()"
   ]
  },
  {
   "cell_type": "code",
   "execution_count": 63,
   "metadata": {},
   "outputs": [
    {
     "data": {
      "text/plain": [
       "mental_health_interview\n",
       "No       232166\n",
       "Maybe     51574\n",
       "Yes        8624\n",
       "Name: count, dtype: int64"
      ]
     },
     "execution_count": 63,
     "metadata": {},
     "output_type": "execute_result"
    }
   ],
   "source": [
    "mh_df['mental_health_interview'].value_counts() # A LOT of 'No's"
   ]
  },
  {
   "cell_type": "markdown",
   "metadata": {},
   "source": [
    "#### I think this could also be a good place to do classification work. We could use the other columns to figure out if thet should have done a mental_health_interview and then try and classify them or something to that effect. "
   ]
  },
  {
   "cell_type": "markdown",
   "metadata": {},
   "source": [
    "## CARE_OPTIONS Column"
   ]
  },
  {
   "cell_type": "code",
   "execution_count": 65,
   "metadata": {},
   "outputs": [
    {
     "data": {
      "text/plain": [
       "0"
      ]
     },
     "execution_count": 65,
     "metadata": {},
     "output_type": "execute_result"
    }
   ],
   "source": [
    "mh_df['care_options'].isna().sum()"
   ]
  },
  {
   "cell_type": "code",
   "execution_count": 66,
   "metadata": {},
   "outputs": [
    {
     "data": {
      "text/plain": [
       "care_options\n",
       "No          118886\n",
       "Yes          95712\n",
       "Not sure     77766\n",
       "Name: count, dtype: int64"
      ]
     },
     "execution_count": 66,
     "metadata": {},
     "output_type": "execute_result"
    }
   ],
   "source": [
    "mh_df['care_options'].value_counts()"
   ]
  },
  {
   "cell_type": "markdown",
   "metadata": {},
   "source": [
    "# EDA Phase 2 - A closer look at the data!"
   ]
  }
 ],
 "metadata": {
  "kernelspec": {
   "display_name": "THE_ONE_env",
   "language": "python",
   "name": "the_one_env"
  },
  "language_info": {
   "codemirror_mode": {
    "name": "ipython",
    "version": 3
   },
   "file_extension": ".py",
   "mimetype": "text/x-python",
   "name": "python",
   "nbconvert_exporter": "python",
   "pygments_lexer": "ipython3",
   "version": "3.11.5"
  }
 },
 "nbformat": 4,
 "nbformat_minor": 2
}
